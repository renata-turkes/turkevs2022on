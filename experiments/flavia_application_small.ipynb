{
 "cells": [
  {
   "cell_type": "markdown",
   "id": "01ccfac0-c6b8-4a5b-b895-5fbc0688d669",
   "metadata": {},
   "source": [
    "# Persistent homology on FLAVIA dataset"
   ]
  },
  {
   "cell_type": "code",
   "execution_count": null,
   "id": "13cc7b90-48de-4279-8274-1561421ecc26",
   "metadata": {},
   "outputs": [],
   "source": [
    "import numpy as np\n",
    "import collections\n",
    "import pickle\n",
    "import gudhi as gd\n",
    "from sklearn.svm import SVR\n",
    "from sklearn.linear_model import LinearRegression\n",
    "from sklearn.model_selection import train_test_split\n",
    "import matplotlib.pyplot as plt\n",
    "\n",
    "PATH_CURRENT = \"../\" \n",
    "import sys\n",
    "sys.path.append(PATH_CURRENT + \"SRC/\")\n",
    "\n",
    "import data_construction\n",
    "import ph\n",
    "import model\n",
    "import ml\n",
    "import plots"
   ]
  },
  {
   "cell_type": "markdown",
   "id": "698d7f74-48e3-47af-9395-f746bded95c3",
   "metadata": {},
   "source": [
    "## Construct dataset\n",
    "\n",
    "The FLAVIA dataset of images of plant leaves comes from:\n",
    "\n",
    "Stephen Gang Wu, Forrest Sheng Bao, Eric You Xu, Yu-Xuan Wang, Yi-Fan Chang, and 671 Qiao-Liang Xiang. A leaf recognition algorithm for plant classification using probabilistic\n",
    "672 neural network. In 2007 IEEE International Symposium on Signal Processing and Information 673 Technology, pages 11–16. IEEE, 2007.\n",
    "\n",
    "http://flavia.sourceforge.net/"
   ]
  },
  {
   "cell_type": "code",
   "execution_count": null,
   "id": "3cc418a1-9bba-441a-86cf-a73da13065a4",
   "metadata": {},
   "outputs": [],
   "source": [
    "# The IDs of images in the complete FLAVIA dataset.\n",
    "ids = list(range(1001, 1617)) + list(range(2001, 2613)) + list(range(2616, 2676)) + list(range(3001, 3564)) + list(range(3566, 3622))\n",
    "\n",
    "\n",
    "data, labels = data_construction.build_dataset_flavia(ids, num_x_pixels = 30, num_y_pixels = 30)\n",
    "\n",
    "\n",
    "with open(PATH_CURRENT  + \"DATASETS/flavia/data.pkl\", \"wb\") as f:\n",
    "    pickle.dump(data, f)     \n",
    "with open(PATH_CURRENT + \"DATASETS/flavia/labels.pkl\", \"wb\") as f:\n",
    "    pickle.dump(labels, f) "
   ]
  },
  {
   "cell_type": "markdown",
   "id": "249d610c-0468-424c-96b1-c89306503ead",
   "metadata": {},
   "source": [
    "## Calculate PH"
   ]
  },
  {
   "cell_type": "code",
   "execution_count": null,
   "id": "80f92d60-24b3-49db-951f-16be8f73f500",
   "metadata": {},
   "outputs": [],
   "source": [
    "data_ph = ph.calculate_ph_height_point_clouds(data, normalization = True)\n",
    "data_ph_sum = np.sum(data_ph, axis = 1)\n",
    "\n",
    "print(data_ph.shape)\n",
    "print(data_ph_sum.shape)"
   ]
  },
  {
   "cell_type": "markdown",
   "id": "2dd6e8cd-5774-4097-b008-908efee2894b",
   "metadata": {},
   "source": [
    "## Comparison of labels and simple scalar PH signature"
   ]
  },
  {
   "cell_type": "code",
   "execution_count": null,
   "id": "52c38e9a-afc5-4f36-8100-1e58cb328663",
   "metadata": {},
   "outputs": [],
   "source": [
    "num_images = data.shape[0]\n",
    "plt.bar(np.arange(0, num_images), 1-labels)\n",
    "plt.title(\"Concavity measure across images\", fontsize=20)\n",
    "plt.show()\n",
    "plt.bar(np.arange(0, num_images), data_ph_sum)\n",
    "plt.title(\"Simple PH simple across images\", fontsize=20)\n",
    "plt.show()"
   ]
  },
  {
   "cell_type": "markdown",
   "id": "08809d5f-ecb8-4690-adc4-0c7a83e4cda3",
   "metadata": {},
   "source": [
    "## Linear regression on simple PH "
   ]
  },
  {
   "cell_type": "code",
   "execution_count": null,
   "id": "d94244ad-8acc-48ad-bd5e-619f5208918f",
   "metadata": {},
   "outputs": [],
   "source": [
    "lr = LinearRegression()\n",
    "data_ph_sum = data_ph_sum.reshape(-1, 1)\n",
    "data_ph_sum_train, data_ph_sum_test, labels_train, labels_test = train_test_split(data_ph_sum, labels, test_size = 0.33, random_state  = 42)\n",
    "\n",
    "lr = lr.fit(data_ph_sum_train, labels_train)\n",
    "model.plot_regression_line(data_ph_sum, labels, lr)\n",
    "mse =  model.get_score(data_ph_sum_test, labels_test, lr)\n",
    "print(\"mean squared error = \", np.around(mse, 5))"
   ]
  },
  {
   "cell_type": "markdown",
   "id": "3bb81794-7414-4a8f-b69a-c8d05f730c12",
   "metadata": {},
   "source": [
    "## Linear regression on PH "
   ]
  },
  {
   "cell_type": "code",
   "execution_count": null,
   "id": "920e747d-8e3e-4e93-8f10-a188f2fa2043",
   "metadata": {},
   "outputs": [],
   "source": [
    "lr = LinearRegression()\n",
    "data_ph_train, data_ph_test, labels_train, labels_test = train_test_split(data_ph, labels, test_size = 0.33, random_state = 42)\n",
    "\n",
    "lr = lr.fit(data_ph_train, labels_train)\n",
    "model.plot_regression_line(data_ph, labels, lr)\n",
    "mse =  model.get_score(data_ph_test, labels_test, lr)\n",
    "print(\"mean squared error = \", np.around(mse, 5))"
   ]
  },
  {
   "cell_type": "code",
   "execution_count": null,
   "id": "7c35a338-d6aa-4c6a-a19e-89a76ec83bfd",
   "metadata": {},
   "outputs": [],
   "source": [
    "num_incorrect_predictions = 0\n",
    "predictions = lr.predict(data_ph)\n",
    "\n",
    "eps = 0.1\n",
    "i = 0\n",
    "ids_wrong = []\n",
    "for image, prediction, label in zip(data, predictions, labels):\n",
    "    if prediction - label > eps:\n",
    "        num_incorrect_predictions = num_incorrect_predictions + 1\n",
    "        plt.imshow(image)\n",
    "        plt.title(\"label=%.2f, prediction=%.2f, image id=%d\" %(label, prediction, ids[i])) \n",
    "        plt.show()\n",
    "        ids_wrong.append(ids[i])\n",
    "    i = i + 1 \n",
    "num_samples = len(data)\n",
    "perc_incorrect_predictions = num_incorrect_predictions / num_samples\n",
    "print(\"Percenatage of incorrect predictions = \", np.around(100 * perc_incorrect_predictions, 2), \"%. \\n\")\n",
    "print(\"ids_wrong = \", ids_wrong)"
   ]
  }
 ],
 "metadata": {
  "kernelspec": {
   "display_name": "Python 3 (ipykernel)",
   "language": "python",
   "name": "python3"
  },
  "language_info": {
   "codemirror_mode": {
    "name": "ipython",
    "version": 3
   },
   "file_extension": ".py",
   "mimetype": "text/x-python",
   "name": "python",
   "nbconvert_exporter": "python",
   "pygments_lexer": "ipython3",
   "version": "3.10.5"
  },
  "toc-autonumbering": false
 },
 "nbformat": 4,
 "nbformat_minor": 5
}
